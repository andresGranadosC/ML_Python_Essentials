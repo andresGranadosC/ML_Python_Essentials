{
 "cells": [
  {
   "cell_type": "markdown",
   "metadata": {},
   "source": [
    "# Control de flujo y funciones\n",
    "\n",
    "* Ciclo \"for\"\n",
    "* Ciclo \"while\"\n",
    "* Sentencias \"if\", \"else\" y condicionales\n",
    "* Sentencias \"break\", \"continue\""
   ]
  },
  {
   "cell_type": "markdown",
   "metadata": {},
   "source": [
    "## Imprimir si un número es par o impar (dos posibles casos $if | else$)"
   ]
  },
  {
   "cell_type": "code",
   "execution_count": null,
   "metadata": {},
   "outputs": [],
   "source": [
    "a = 5\n",
    "a % 2 == 0"
   ]
  },
  {
   "cell_type": "code",
   "execution_count": null,
   "metadata": {},
   "outputs": [],
   "source": [
    "a = 5\n",
    "b = 1\n",
    "c=3\n",
    "\n",
    "\n",
    "if a % 2 == 0:\n",
    "    print(\"El numero\", a, \"es par\")\n",
    "else:\n",
    "    print(\"El numero\", a, \"es impar\")"
   ]
  },
  {
   "cell_type": "markdown",
   "metadata": {},
   "source": [
    "$ \\huge if $"
   ]
  },
  {
   "cell_type": "markdown",
   "metadata": {},
   "source": [
    "## Imprimir si un número está en el intervalo $(0,1)$ (tres posibles casos $if | elif | else$ )"
   ]
  },
  {
   "cell_type": "code",
   "execution_count": null,
   "metadata": {},
   "outputs": [],
   "source": [
    "numero = 1/3\n",
    "\n",
    "if numero <= 0:\n",
    "    print(\"El numero\", numero, \"está en el intervalo (-inf, 0]\")\n",
    "elif numero < 1:\n",
    "    print(\"El numero\", numero, \"está en el intervalo (0, 1)\")\n",
    "else:\n",
    "    print(\"El numero\", numero, \"está en el intervalo [1, inf)\")"
   ]
  },
  {
   "cell_type": "markdown",
   "metadata": {},
   "source": [
    "## Condicionales compuestas"
   ]
  },
  {
   "cell_type": "code",
   "execution_count": null,
   "metadata": {},
   "outputs": [],
   "source": [
    "numero1 = 10./3\n",
    "\n",
    "(numero > 0) & (numero < 1)"
   ]
  },
  {
   "cell_type": "markdown",
   "metadata": {},
   "source": [
    "# Ciclo  $for$"
   ]
  },
  {
   "cell_type": "markdown",
   "metadata": {},
   "source": [
    "### Por elemento"
   ]
  },
  {
   "cell_type": "code",
   "execution_count": 10,
   "metadata": {},
   "outputs": [
    {
     "name": "stdout",
     "output_type": "stream",
     "text": [
      "-3\n",
      "2\n",
      "1.4\n",
      "0.7\n",
      "0.125\n",
      "4\n",
      "2\n"
     ]
    }
   ],
   "source": [
    "numeros_a_evaluar = [-3, 2, 1.4, 0.7, 1/8, 4, 2]\n",
    "suma = 0\n",
    "for numero in numeros_a_evaluar:\n",
    "    suma += numero\n",
    "    print(numero)"
   ]
  },
  {
   "cell_type": "code",
   "execution_count": 11,
   "metadata": {},
   "outputs": [
    {
     "data": {
      "text/plain": [
       "7.225"
      ]
     },
     "execution_count": 11,
     "metadata": {},
     "output_type": "execute_result"
    }
   ],
   "source": [
    "suma"
   ]
  },
  {
   "cell_type": "markdown",
   "metadata": {},
   "source": [
    "### Por índice del elemento"
   ]
  },
  {
   "cell_type": "code",
   "execution_count": 2,
   "metadata": {},
   "outputs": [
    {
     "data": {
      "text/plain": [
       "7"
      ]
     },
     "execution_count": 2,
     "metadata": {},
     "output_type": "execute_result"
    }
   ],
   "source": [
    "numeros_a_evaluar = [-3, 2, 1.4, 0.7, 1/8, 4, 2]\n",
    "\n",
    "len(numeros_a_evaluar)"
   ]
  },
  {
   "cell_type": "code",
   "execution_count": 4,
   "metadata": {},
   "outputs": [
    {
     "name": "stdout",
     "output_type": "stream",
     "text": [
      "indice_de_numero = 3  Numero: 0.7\n",
      "indice_de_numero = 4  Numero: 0.125\n",
      "indice_de_numero = 5  Numero: 4\n",
      "indice_de_numero = 6  Numero: 2\n"
     ]
    }
   ],
   "source": [
    "\n",
    "for indice_de_numero in range(3, len(numeros_a_evaluar)) :\n",
    "    print(\"indice_de_numero =\", indice_de_numero, \n",
    "          \" Numero:\", numeros_a_evaluar[indice_de_numero])"
   ]
  },
  {
   "cell_type": "code",
   "execution_count": 6,
   "metadata": {},
   "outputs": [
    {
     "ename": "SyntaxError",
     "evalue": "invalid syntax (<ipython-input-6-6a5b41ccf0b6>, line 2)",
     "output_type": "error",
     "traceback": [
      "\u001b[0;36m  File \u001b[0;32m\"<ipython-input-6-6a5b41ccf0b6>\"\u001b[0;36m, line \u001b[0;32m2\u001b[0m\n\u001b[0;31m    resultado = [suma = suma + i for i in range(10)]\u001b[0m\n\u001b[0m                      ^\u001b[0m\n\u001b[0;31mSyntaxError\u001b[0m\u001b[0;31m:\u001b[0m invalid syntax\n"
     ]
    }
   ],
   "source": [
    "suma = 0\n",
    "resultado = [suma + i for i in range(10)]\n",
    "resultado"
   ]
  },
  {
   "cell_type": "markdown",
   "metadata": {},
   "source": [
    "#  $zip()$"
   ]
  },
  {
   "cell_type": "code",
   "execution_count": 12,
   "metadata": {},
   "outputs": [
    {
     "name": "stdout",
     "output_type": "stream",
     "text": [
      "(color, code): ('Red', 0.22)\n",
      "(color, code): ('Blue', 0.68)\n",
      "(color, code): ('White', 0.8)\n",
      "(color, code): ('Grey', 0.6)\n"
     ]
    }
   ],
   "source": [
    "colors = ['Red', 'Blue', 'White', 'Grey']\n",
    "codes = [0.22, 0.68, 0.8, 0.6]\n",
    "\n",
    "for (color, code) in zip(colors, codes):\n",
    "    print(\"(color, code):\", (color, code))\n"
   ]
  },
  {
   "cell_type": "markdown",
   "metadata": {},
   "source": [
    "# Ejercicio: Descomponer el número 20 en sus factores"
   ]
  },
  {
   "cell_type": "code",
   "execution_count": null,
   "metadata": {},
   "outputs": [],
   "source": []
  },
  {
   "cell_type": "code",
   "execution_count": null,
   "metadata": {},
   "outputs": [],
   "source": []
  },
  {
   "cell_type": "markdown",
   "metadata": {},
   "source": [
    "# Ciclo $while$\n",
    "\n",
    "## Encontrar el número 5 en un arreglo"
   ]
  },
  {
   "cell_type": "code",
   "execution_count": null,
   "metadata": {},
   "outputs": [],
   "source": [
    "a = [6, 2, 7, 2, 8, 12, 5, 34, 7, 0.1, 7 ,9]"
   ]
  },
  {
   "cell_type": "code",
   "execution_count": null,
   "metadata": {},
   "outputs": [],
   "source": [
    "condicion = True\n",
    "\n",
    "indice = -1\n",
    "while(condicion):\n",
    "    indice += 1      # indice = indice + 1\n",
    "    condicion = not (a[indice] == 5)"
   ]
  },
  {
   "cell_type": "code",
   "execution_count": null,
   "metadata": {},
   "outputs": [],
   "source": [
    "print(\"Se encontró el número 5 en la posición:\", indice)"
   ]
  },
  {
   "cell_type": "code",
   "execution_count": null,
   "metadata": {},
   "outputs": [],
   "source": []
  },
  {
   "cell_type": "code",
   "execution_count": null,
   "metadata": {},
   "outputs": [],
   "source": [
    "import numpy as np"
   ]
  },
  {
   "cell_type": "markdown",
   "metadata": {},
   "source": [
    "# Funciones"
   ]
  },
  {
   "cell_type": "markdown",
   "metadata": {},
   "source": [
    "$$\\huge f(x) = mx + b$$"
   ]
  },
  {
   "cell_type": "code",
   "execution_count": null,
   "metadata": {},
   "outputs": [],
   "source": [
    "def f(x, m, b = 0):\n",
    "    x = np.array(x)\n",
    "    return x*m + b"
   ]
  },
  {
   "cell_type": "code",
   "execution_count": null,
   "metadata": {},
   "outputs": [],
   "source": [
    "f([1, 2, 4], 1, 1)"
   ]
  },
  {
   "cell_type": "code",
   "execution_count": null,
   "metadata": {},
   "outputs": [],
   "source": []
  }
 ],
 "metadata": {
  "kernelspec": {
   "display_name": "Python 3",
   "language": "python",
   "name": "python3"
  },
  "language_info": {
   "codemirror_mode": {
    "name": "ipython",
    "version": 3
   },
   "file_extension": ".py",
   "mimetype": "text/x-python",
   "name": "python",
   "nbconvert_exporter": "python",
   "pygments_lexer": "ipython3",
   "version": "3.7.3"
  }
 },
 "nbformat": 4,
 "nbformat_minor": 2
}
