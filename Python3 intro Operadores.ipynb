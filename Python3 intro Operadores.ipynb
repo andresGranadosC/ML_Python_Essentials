{
 "cells": [
  {
   "cell_type": "markdown",
   "metadata": {},
   "source": [
    "# Operadores en Python\n",
    "\n",
    "* Aritmeticos\n",
    "* Comparación o relacionales\n",
    "* Asignación\n",
    "* Lógicos\n",
    "* \"Bitwise\"\n",
    "* Pertenencia\n",
    "* Identidad"
   ]
  },
  {
   "cell_type": "markdown",
   "metadata": {},
   "source": [
    "## Aritmeticos:\n",
    "\n",
    "$$ \\huge +, -, *, /, \\%, **, // $$\n",
    "Ejemplo:\n",
    "$$ \\huge a = 14, b=5 $$"
   ]
  },
  {
   "cell_type": "code",
   "execution_count": 10,
   "metadata": {},
   "outputs": [
    {
     "name": "stdout",
     "output_type": "stream",
     "text": [
      "a+b = 19\n",
      "a-b = 9\n",
      "a*b = 70\n",
      "a/b = 2.8\n",
      "a%b = 4\n",
      "a**b = 537824\n",
      "a//b = 2\n"
     ]
    }
   ],
   "source": [
    "a = 14\n",
    "b = 5\n",
    "print(\"a+b =\", a+b)\n",
    "print(\"a-b =\", a-b)\n",
    "print(\"a*b =\", a*b)\n",
    "print(\"a/b =\", a/b)\n",
    "print(\"a%b =\", a%b)\n",
    "print(\"a**b =\", a**b)\n",
    "print(\"a//b =\", a//b)"
   ]
  },
  {
   "cell_type": "code",
   "execution_count": 3,
   "metadata": {},
   "outputs": [
    {
     "data": {
      "text/plain": [
       "[1, 2, 3, 4, 5, 6, 7]"
      ]
     },
     "execution_count": 3,
     "metadata": {},
     "output_type": "execute_result"
    }
   ],
   "source": [
    "str1 = [1, 2, 3, 4]\n",
    "str2 = [5, 6, 7]\n",
    "str1 + str2"
   ]
  },
  {
   "cell_type": "code",
   "execution_count": 11,
   "metadata": {},
   "outputs": [
    {
     "name": "stdout",
     "output_type": "stream",
     "text": [
      "a+b = 19.0\n",
      "a-b = 9.0\n",
      "a*b = 70.0\n",
      "a/b = 2.8\n",
      "a%b = 4.0\n",
      "a**b = 537824.0\n",
      "a//b = 2.0\n"
     ]
    }
   ],
   "source": [
    "a = 14.0\n",
    "b = 5\n",
    "print(\"a+b =\", a+b)\n",
    "print(\"a-b =\", a-b)\n",
    "print(\"a*b =\", a*b)\n",
    "print(\"a/b =\", a/b)\n",
    "print(\"a%b =\", a%b)\n",
    "print(\"a**b =\", a**b)\n",
    "print(\"a//b =\", a//b)"
   ]
  },
  {
   "cell_type": "markdown",
   "metadata": {},
   "source": [
    "### Los operadores + y * usando tipos String representan concatenación y repetición"
   ]
  },
  {
   "cell_type": "code",
   "execution_count": 64,
   "metadata": {},
   "outputs": [
    {
     "name": "stdout",
     "output_type": "stream",
     "text": [
      "str_1 + str_2 * 3 =  Introducción a Python...\n"
     ]
    }
   ],
   "source": [
    "str_1 = \"Introducción a Python\"\n",
    "str_2 = \".\"\n",
    "\n",
    "print(\"str_1 + str_2 * 3 = \", str_1 + str_2*3)\n"
   ]
  },
  {
   "cell_type": "markdown",
   "metadata": {},
   "source": [
    "## Comparación:\n",
    "\n",
    "$$ \\huge ==, !=, >, <, >=, <= $$\n",
    "Ejemplo:\n",
    "$$ \\huge a = 14, b=5 $$"
   ]
  },
  {
   "cell_type": "code",
   "execution_count": 12,
   "metadata": {},
   "outputs": [
    {
     "name": "stdout",
     "output_type": "stream",
     "text": [
      "a==b = False\n",
      "a!=b = True\n",
      "a>=b = True\n"
     ]
    }
   ],
   "source": [
    "a = 14\n",
    "b = 5\n",
    "print(\"a==b =\", a==b)\n",
    "print(\"a!=b =\", a!=b)\n",
    "print(\"a>=b =\", a>=b)\n"
   ]
  },
  {
   "cell_type": "markdown",
   "metadata": {},
   "source": [
    "## Asignación:\n",
    "\n",
    "$$ \\huge =, +=, -=, *=, /=, \\%=, **=, //= $$\n",
    "Ejemplo:\n",
    "$$ \\huge (a = 14) \\equiv (a \\leftarrow 14) $$\n",
    "$$ \\huge (a += 2) \\equiv (a \\leftarrow a + 2) $$\n"
   ]
  },
  {
   "cell_type": "code",
   "execution_count": 23,
   "metadata": {},
   "outputs": [
    {
     "name": "stdout",
     "output_type": "stream",
     "text": [
      "c = a; c = 14\n",
      "c += 3; c = 17\n",
      "c -= 3; c = 14\n",
      "c *= 3; c = 42\n",
      "c /= 3; c = 14.0\n",
      "c %= 3; c = 2.0\n",
      "c **= 3; c = 8.0\n",
      "c //= 3; c = 2.0\n"
     ]
    }
   ],
   "source": [
    "a = 14; b = 5\n",
    "\n",
    "c = a\n",
    "print(\"c = a; c =\", c)\n",
    "c += 3\n",
    "print(\"c += 3; c =\", c)\n",
    "c -= 3\n",
    "print(\"c -= 3; c =\", c)\n",
    "c *= 3\n",
    "print(\"c *= 3; c =\", c)\n",
    "c /= 3\n",
    "print(\"c /= 3; c =\", c)\n",
    "c %= 3\n",
    "print(\"c %= 3; c =\", c)\n",
    "c **= 3\n",
    "print(\"c **= 3; c =\", c)\n",
    "c //= 3\n",
    "print(\"c //= 3; c =\", c)"
   ]
  },
  {
   "cell_type": "markdown",
   "metadata": {},
   "source": [
    "## Lógico:\n",
    "\n",
    "$$ \\huge and, or, not $$\n"
   ]
  },
  {
   "cell_type": "code",
   "execution_count": 32,
   "metadata": {},
   "outputs": [
    {
     "name": "stdout",
     "output_type": "stream",
     "text": [
      "a and b = False\n",
      "a or b = True\n",
      "not b = True\n"
     ]
    }
   ],
   "source": [
    "a = True\n",
    "b = False\n",
    "print(\"a and b =\", a and b)\n",
    "print(\"a or b =\", a or b)\n",
    "print(\"not b =\", not b)\n"
   ]
  },
  {
   "cell_type": "code",
   "execution_count": 33,
   "metadata": {},
   "outputs": [
    {
     "data": {
      "text/plain": [
       "(0, 1)"
      ]
     },
     "execution_count": 33,
     "metadata": {},
     "output_type": "execute_result"
    }
   ],
   "source": [
    "int(False), int(True)"
   ]
  },
  {
   "cell_type": "markdown",
   "metadata": {},
   "source": [
    "## \"Bitwise\":\n",
    "\n",
    "# \\&, |, ^, ~\n"
   ]
  },
  {
   "cell_type": "code",
   "execution_count": 42,
   "metadata": {},
   "outputs": [
    {
     "name": "stdout",
     "output_type": "stream",
     "text": [
      "0b1110\n",
      "0b101\n",
      "c = a&b; c = 4 ; bin(c) =  0b100\n",
      "c = a|b; c = 15 ; bin(c) =  0b1111\n",
      "c = a^b; c = 11 ; bin(c) =  0b1011\n",
      "c = ~b; c = -6 ; bin(c) =  -0b110\n"
     ]
    }
   ],
   "source": [
    "a = 14\n",
    "b = 5\n",
    "\n",
    "print( bin(a) )\n",
    "print( bin(b) )\n",
    "\n",
    "c = a&b\n",
    "print(\"c = a&b; c =\", c, \"; bin(c) = \", bin(c))\n",
    "c = a|b\n",
    "print(\"c = a|b; c =\", c, \"; bin(c) = \", bin(c))\n",
    "c = a^b\n",
    "print(\"c = a^b; c =\", c, \"; bin(c) = \", bin(c))\n",
    "c = ~b\n",
    "print(\"c = ~b; c =\", c, \"; bin(c) = \", bin(c))"
   ]
  },
  {
   "cell_type": "markdown",
   "metadata": {},
   "source": [
    "## Pertenencia:\n",
    "\n",
    "$$ \\huge in, \\hspace{5mm } not \\hspace{3mm } in $$"
   ]
  },
  {
   "cell_type": "code",
   "execution_count": 47,
   "metadata": {},
   "outputs": [
    {
     "name": "stdout",
     "output_type": "stream",
     "text": [
      "True\n",
      "True\n",
      "False\n"
     ]
    }
   ],
   "source": [
    "alphab = \"abcdefghijklmnopqrstuvxyz\"\n",
    "\n",
    "print(\"a\" in alphab)\n",
    "print(\"A\" not in alphab)\n",
    "print(\"ñ\" in alphab)"
   ]
  },
  {
   "cell_type": "code",
   "execution_count": 4,
   "metadata": {},
   "outputs": [],
   "source": [
    "A = 10\n",
    "a = 2\n",
    "\n",
    "aNumber=0\n",
    "anumber=9"
   ]
  },
  {
   "cell_type": "code",
   "execution_count": 49,
   "metadata": {},
   "outputs": [
    {
     "name": "stdout",
     "output_type": "stream",
     "text": [
      "False\n",
      "False\n",
      "True\n"
     ]
    }
   ],
   "source": [
    "primeNumbers = [2, 3, 5, 7, 11, 13]\n",
    "\n",
    "print(\"a\" in primeNumbers)\n",
    "print(1 in primeNumbers)\n",
    "print(4 not in primeNumbers)"
   ]
  },
  {
   "cell_type": "markdown",
   "metadata": {},
   "source": [
    "## Identidad:\n",
    "\n",
    "$$ \\huge is, \\hspace{5mm } is \\hspace{3mm } not $$"
   ]
  },
  {
   "cell_type": "code",
   "execution_count": 61,
   "metadata": {},
   "outputs": [
    {
     "name": "stdout",
     "output_type": "stream",
     "text": [
      "a is b =  False ; id(a) = 4382163504 , id(b) = 4391913208\n",
      "True\n",
      "False\n",
      "True\n",
      "False\n"
     ]
    }
   ],
   "source": [
    "a = 14\n",
    "b = \"number\"\n",
    "\n",
    "print( \"a is b = \", a is b, \"; id(a) =\", id(a), \", id(b) =\", id(b) )\n",
    "print( a is 14 )\n",
    "print( a is 14. )\n",
    "print( b is \"number\" )\n",
    "print( b is \" number\" )"
   ]
  },
  {
   "cell_type": "code",
   "execution_count": 55,
   "metadata": {},
   "outputs": [
    {
     "data": {
      "text/plain": [
       "4382163184"
      ]
     },
     "execution_count": 55,
     "metadata": {},
     "output_type": "execute_result"
    }
   ],
   "source": [
    "id(4)"
   ]
  },
  {
   "cell_type": "code",
   "execution_count": null,
   "metadata": {},
   "outputs": [],
   "source": []
  }
 ],
 "metadata": {
  "kernelspec": {
   "display_name": "Python 3",
   "language": "python",
   "name": "python3"
  },
  "language_info": {
   "codemirror_mode": {
    "name": "ipython",
    "version": 3
   },
   "file_extension": ".py",
   "mimetype": "text/x-python",
   "name": "python",
   "nbconvert_exporter": "python",
   "pygments_lexer": "ipython3",
   "version": "3.7.3"
  }
 },
 "nbformat": 4,
 "nbformat_minor": 2
}
